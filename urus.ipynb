{
  "nbformat": 4,
  "nbformat_minor": 0,
  "metadata": {
    "colab": {
      "provenance": []
    },
    "kernelspec": {
      "name": "python3",
      "display_name": "Python 3"
    },
    "language_info": {
      "name": "python"
    }
  },
  "cells": [
    {
      "cell_type": "code",
      "execution_count": null,
      "metadata": {
        "colab": {
          "base_uri": "https://localhost:8080/"
        },
        "id": "C_mvklhFZ4yY",
        "outputId": "9c541fa6-c898-4b72-c855-265872ec2761"
      },
      "outputs": [
        {
          "output_type": "stream",
          "name": "stdout",
          "text": [
            "Search Query: default_query\n"
          ]
        }
      ],
      "source": [
        "import os\n",
        "\n",
        "search_query = os.environ.get('QUERY', 'default_query')\n",
        "print(f\"Search Query: {search_query}\")\n"
      ]
    },
    {
      "cell_type": "code",
      "source": [
        "import urllib.parse\n",
        "import sys\n",
        "\n",
        "def get_query_params():\n",
        "    # Parse parameters from sys.argv\n",
        "    params_str = urllib.parse.unquote(sys.argv[-1]) if len(sys.argv) > 1 else \"\"\n",
        "    params = urllib.parse.parse_qs(params_str)\n",
        "    return {key: val[0] for key, val in params.items()}\n",
        "\n",
        "params = get_query_params()\n",
        "\n",
        "# Example: Access a parameter `query`\n",
        "search_query = params.get('query', 'default_query')\n",
        "print(f\"Search Query: {search_query}\")"
      ],
      "metadata": {
        "colab": {
          "base_uri": "https://localhost:8080/"
        },
        "id": "PHHVIgocaq_u",
        "outputId": "42eba3fc-2a54-496f-f1ca-f0b403489c8c"
      },
      "execution_count": null,
      "outputs": [
        {
          "output_type": "stream",
          "name": "stdout",
          "text": [
            "Search Query: default_query\n"
          ]
        }
      ]
    },
    {
      "cell_type": "code",
      "source": [
        "from IPython.display import Javascript\n",
        "\n",
        "def extract_params():\n",
        "    from google.colab import output\n",
        "\n",
        "    # Define a callback to process parameters\n",
        "    def capture_params(params):\n",
        "        global query_params\n",
        "        query_params = params\n",
        "        print(f\"Captured Params: {query_params}\")\n",
        "\n",
        "    # Register the callback\n",
        "    output.register_callback('notebook.capture_params', capture_params)\n",
        "\n",
        "    # Run JavaScript to parse query parameters\n",
        "    display(Javascript('''\n",
        "        (async function() {\n",
        "            const params = new URLSearchParams(window.location.search);\n",
        "            const data = {};\n",
        "            params.forEach((value, key) => { data[key] = value; });\n",
        "            google.colab.kernel.invokeFunction('notebook.capture_params', [data], {});\n",
        "        })();\n",
        "    '''))\n",
        "\n",
        "# Extract and store parameters\n",
        "query_params = {}\n",
        "extract_params()\n"
      ],
      "metadata": {
        "colab": {
          "base_uri": "https://localhost:8080/",
          "height": 34
        },
        "id": "1NM6u8HZck9L",
        "outputId": "58ea3cd7-bde5-40d8-dc51-97fc87ae0683"
      },
      "execution_count": 27,
      "outputs": [
        {
          "output_type": "display_data",
          "data": {
            "text/plain": [
              "<IPython.core.display.Javascript object>"
            ],
            "application/javascript": [
              "\n",
              "        (async function() {\n",
              "            const params = new URLSearchParams(window.location.search);\n",
              "            const data = {};\n",
              "            params.forEach((value, key) => { data[key] = value; });\n",
              "            google.colab.kernel.invokeFunction('notebook.capture_params', [data], {});\n",
              "        })();\n",
              "    "
            ]
          },
          "metadata": {}
        },
        {
          "output_type": "stream",
          "name": "stdout",
          "text": [
            "Captured Params: {'vrz': 'colab_20241210-060123_RC01_704735792'}\n"
          ]
        }
      ]
    },
    {
      "cell_type": "code",
      "source": [
        "query_params"
      ],
      "metadata": {
        "id": "nPTpjHR-daPF",
        "outputId": "78b721f3-555b-4e48-d282-acb5e3ac62f1",
        "colab": {
          "base_uri": "https://localhost:8080/"
        }
      },
      "execution_count": 29,
      "outputs": [
        {
          "output_type": "execute_result",
          "data": {
            "text/plain": [
              "{'vrz': 'colab_20241210-060123_RC01_704735792'}"
            ]
          },
          "metadata": {},
          "execution_count": 29
        }
      ]
    }
  ]
}